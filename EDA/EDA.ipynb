{
 "cells": [
  {
   "cell_type": "code",
   "execution_count": 2,
   "id": "8abca0f8-d87f-41f2-8915-eb0172ae564a",
   "metadata": {},
   "outputs": [],
   "source": [
    "import pandas as pd\n",
    "import numpy as np\n",
    "import matplotlib.pyplot as plt"
   ]
  },
  {
   "cell_type": "code",
   "execution_count": 3,
   "id": "b29215e7-1fde-40b8-af89-81e6630493fb",
   "metadata": {},
   "outputs": [],
   "source": [
    "metadata_df = pd.read_csv(\"../data/train_metadata.csv\")"
   ]
  },
  {
   "cell_type": "code",
   "execution_count": 6,
   "id": "c3868281-da37-4f6e-b129-46fd152a2181",
   "metadata": {},
   "outputs": [
    {
     "name": "stdout",
     "output_type": "stream",
     "text": [
      "<class 'pandas.core.frame.DataFrame'>\n",
      "RangeIndex: 24459 entries, 0 to 24458\n",
      "Data columns (total 12 columns):\n",
      " #   Column            Non-Null Count  Dtype  \n",
      "---  ------            --------------  -----  \n",
      " 0   primary_label     24459 non-null  object \n",
      " 1   secondary_labels  24459 non-null  object \n",
      " 2   type              24459 non-null  object \n",
      " 3   latitude          24081 non-null  float64\n",
      " 4   longitude         24081 non-null  float64\n",
      " 5   scientific_name   24459 non-null  object \n",
      " 6   common_name       24459 non-null  object \n",
      " 7   author            24459 non-null  object \n",
      " 8   license           24459 non-null  object \n",
      " 9   rating            24459 non-null  float64\n",
      " 10  url               24459 non-null  object \n",
      " 11  filename          24459 non-null  object \n",
      "dtypes: float64(3), object(9)\n",
      "memory usage: 2.2+ MB\n"
     ]
    }
   ],
   "source": [
    "# Note that we don't have latitude/longitude for all samples\n",
    "metadata_df.info()"
   ]
  },
  {
   "cell_type": "code",
   "execution_count": 8,
   "id": "6b46325a-654c-4ee8-a99f-3dd967dc03f2",
   "metadata": {},
   "outputs": [
    {
     "data": {
      "text/plain": [
       "Index(['primary_label', 'secondary_labels', 'type', 'latitude', 'longitude',\n",
       "       'scientific_name', 'common_name', 'author', 'license', 'rating', 'url',\n",
       "       'filename'],\n",
       "      dtype='object')"
      ]
     },
     "execution_count": 8,
     "metadata": {},
     "output_type": "execute_result"
    }
   ],
   "source": [
    "metadata_df[\""
   ]
  },
  {
   "cell_type": "code",
   "execution_count": null,
   "id": "150aead4-c0aa-44d4-b310-bf8ae9f3d5a2",
   "metadata": {},
   "outputs": [],
   "source": []
  }
 ],
 "metadata": {
  "kernelspec": {
   "display_name": "Python 3 (ipykernel)",
   "language": "python",
   "name": "python3"
  },
  "language_info": {
   "codemirror_mode": {
    "name": "ipython",
    "version": 3
   },
   "file_extension": ".py",
   "mimetype": "text/x-python",
   "name": "python",
   "nbconvert_exporter": "python",
   "pygments_lexer": "ipython3",
   "version": "3.11.9"
  }
 },
 "nbformat": 4,
 "nbformat_minor": 5
}
