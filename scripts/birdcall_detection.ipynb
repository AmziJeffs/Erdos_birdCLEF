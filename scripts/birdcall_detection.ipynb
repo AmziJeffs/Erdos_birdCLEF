{
 "cells": [
  {
   "cell_type": "markdown",
   "metadata": {},
   "source": [
    "# 0. Setup"
   ]
  },
  {
   "cell_type": "code",
   "execution_count": 1,
   "metadata": {},
   "outputs": [],
   "source": [
    "# Convenience and saving\n",
    "ABRIDGED_RUN = False # Set to True to train and validate on 10% of the data, for quick funcitonality tests etc\n",
    "SAVE_AFTER_TRAINING = True # Save the model when you are done\n",
    "SAVE_CHECKPOINTS = True # Save the model after every epoch\n",
    "REPORT_TRAINING_LOSS_PER_EPOCH = True # Track the training loss each epoch, and write it to a file after training\n",
    "REPORT_VALIDATION_LOSS_PER_EPOCH = True # Lets us make a nice learning curve after training\n",
    "\n",
    "# Training hyperparameters\n",
    "BATCH_SIZE = 32 # Number of samples per batch while training our network\n",
    "NUM_EPOCHS = 20 # Number of epochs to train our network\n",
    "LEARNING_RATE = 0.001 # Learning rate for our optimizer\n",
    "\n",
    "# Directories\n",
    "DATA_DIR = \"../data/\"\n",
    "AUDIO_DIR_2021 = DATA_DIR + \"train_soundscapes_2021/\"\n",
    "CHECKPOINT_DIR = \"checkpoints/\" # Checkpoints, models, and training data will be saved here\n",
    "MODEL_NAME = None\n",
    "\n",
    "# Preprocessing info\n",
    "SAMPLE_RATE = 32000 # All our audio uses this sample rate\n",
    "SAMPLE_LENGTH = 5 # Duration we want to crop our audio to\n"
   ]
  },
  {
   "cell_type": "code",
   "execution_count": 2,
   "metadata": {},
   "outputs": [],
   "source": [
    "# Basic imports\n",
    "import pandas as pd\n",
    "import numpy as np\n",
    "import matplotlib.pyplot as plt\n",
    "import seaborn as sns\n",
    "import plotly.express as px\n",
    "import librosa\n",
    "import os\n",
    "import IPython.display as ipd\n",
    "from sklearn.model_selection import train_test_split\n",
    "from tqdm.notebook import tqdm\n",
    "from pathlib import Path"
   ]
  },
  {
   "cell_type": "code",
   "execution_count": 5,
   "metadata": {},
   "outputs": [],
   "source": [
    "# Torch imports\n",
    "import torch\n",
    "import torchaudio\n",
    "import torchvision.transforms as transforms\n",
    "from torch.utils.data import DataLoader, Subset, random_split\n",
    "from torch.utils.data import Dataset\n",
    "import torch.nn as nn\n",
    "import torch.nn.functional as F\n",
    "import torchvision.models as models\n",
    "from torchaudio.transforms import MelSpectrogram, Resample\n",
    "from IPython.display import Audio\n",
    "import torch.optim as optim"
   ]
  },
  {
   "cell_type": "code",
   "execution_count": 6,
   "metadata": {},
   "outputs": [],
   "source": [
    "sounds = pd.read_csv(DATA_DIR+'train_soundscape_2021_labels.csv')\n"
   ]
  },
  {
   "cell_type": "code",
   "execution_count": 7,
   "metadata": {},
   "outputs": [
    {
     "data": {
      "text/html": [
       "<div>\n",
       "<style scoped>\n",
       "    .dataframe tbody tr th:only-of-type {\n",
       "        vertical-align: middle;\n",
       "    }\n",
       "\n",
       "    .dataframe tbody tr th {\n",
       "        vertical-align: top;\n",
       "    }\n",
       "\n",
       "    .dataframe thead th {\n",
       "        text-align: right;\n",
       "    }\n",
       "</style>\n",
       "<table border=\"1\" class=\"dataframe\">\n",
       "  <thead>\n",
       "    <tr style=\"text-align: right;\">\n",
       "      <th></th>\n",
       "      <th>row_id</th>\n",
       "      <th>site</th>\n",
       "      <th>audio_id</th>\n",
       "      <th>seconds</th>\n",
       "      <th>birds</th>\n",
       "    </tr>\n",
       "  </thead>\n",
       "  <tbody>\n",
       "    <tr>\n",
       "      <th>0</th>\n",
       "      <td>7019_COR_5</td>\n",
       "      <td>COR</td>\n",
       "      <td>7019</td>\n",
       "      <td>5</td>\n",
       "      <td>nocall</td>\n",
       "    </tr>\n",
       "    <tr>\n",
       "      <th>1</th>\n",
       "      <td>7019_COR_10</td>\n",
       "      <td>COR</td>\n",
       "      <td>7019</td>\n",
       "      <td>10</td>\n",
       "      <td>nocall</td>\n",
       "    </tr>\n",
       "    <tr>\n",
       "      <th>2</th>\n",
       "      <td>7019_COR_15</td>\n",
       "      <td>COR</td>\n",
       "      <td>7019</td>\n",
       "      <td>15</td>\n",
       "      <td>nocall</td>\n",
       "    </tr>\n",
       "    <tr>\n",
       "      <th>3</th>\n",
       "      <td>7019_COR_20</td>\n",
       "      <td>COR</td>\n",
       "      <td>7019</td>\n",
       "      <td>20</td>\n",
       "      <td>nocall</td>\n",
       "    </tr>\n",
       "    <tr>\n",
       "      <th>4</th>\n",
       "      <td>7019_COR_25</td>\n",
       "      <td>COR</td>\n",
       "      <td>7019</td>\n",
       "      <td>25</td>\n",
       "      <td>nocall</td>\n",
       "    </tr>\n",
       "  </tbody>\n",
       "</table>\n",
       "</div>"
      ],
      "text/plain": [
       "        row_id site  audio_id  seconds   birds\n",
       "0   7019_COR_5  COR      7019        5  nocall\n",
       "1  7019_COR_10  COR      7019       10  nocall\n",
       "2  7019_COR_15  COR      7019       15  nocall\n",
       "3  7019_COR_20  COR      7019       20  nocall\n",
       "4  7019_COR_25  COR      7019       25  nocall"
      ]
     },
     "execution_count": 7,
     "metadata": {},
     "output_type": "execute_result"
    }
   ],
   "source": [
    "sounds.head()"
   ]
  },
  {
   "cell_type": "code",
   "execution_count": 8,
   "metadata": {},
   "outputs": [],
   "source": [
    "def get_filepath(row):\n",
    "    filepath = AUDIO_DIR_2021+ str(row.audio_id)+'_'+row.site+'.ogg'\n",
    "    return filepath"
   ]
  },
  {
   "cell_type": "code",
   "execution_count": 9,
   "metadata": {},
   "outputs": [],
   "source": [
    "sounds['filepath'] = sounds.apply(get_filepath, axis=1)"
   ]
  },
  {
   "cell_type": "code",
   "execution_count": 10,
   "metadata": {},
   "outputs": [
    {
     "data": {
      "text/html": [
       "<div>\n",
       "<style scoped>\n",
       "    .dataframe tbody tr th:only-of-type {\n",
       "        vertical-align: middle;\n",
       "    }\n",
       "\n",
       "    .dataframe tbody tr th {\n",
       "        vertical-align: top;\n",
       "    }\n",
       "\n",
       "    .dataframe thead th {\n",
       "        text-align: right;\n",
       "    }\n",
       "</style>\n",
       "<table border=\"1\" class=\"dataframe\">\n",
       "  <thead>\n",
       "    <tr style=\"text-align: right;\">\n",
       "      <th></th>\n",
       "      <th>row_id</th>\n",
       "      <th>site</th>\n",
       "      <th>audio_id</th>\n",
       "      <th>seconds</th>\n",
       "      <th>birds</th>\n",
       "      <th>filepath</th>\n",
       "    </tr>\n",
       "  </thead>\n",
       "  <tbody>\n",
       "    <tr>\n",
       "      <th>0</th>\n",
       "      <td>7019_COR_5</td>\n",
       "      <td>COR</td>\n",
       "      <td>7019</td>\n",
       "      <td>5</td>\n",
       "      <td>nocall</td>\n",
       "      <td>../data/train_soundscapes_2021/7019_COR.ogg</td>\n",
       "    </tr>\n",
       "    <tr>\n",
       "      <th>1</th>\n",
       "      <td>7019_COR_10</td>\n",
       "      <td>COR</td>\n",
       "      <td>7019</td>\n",
       "      <td>10</td>\n",
       "      <td>nocall</td>\n",
       "      <td>../data/train_soundscapes_2021/7019_COR.ogg</td>\n",
       "    </tr>\n",
       "    <tr>\n",
       "      <th>2</th>\n",
       "      <td>7019_COR_15</td>\n",
       "      <td>COR</td>\n",
       "      <td>7019</td>\n",
       "      <td>15</td>\n",
       "      <td>nocall</td>\n",
       "      <td>../data/train_soundscapes_2021/7019_COR.ogg</td>\n",
       "    </tr>\n",
       "    <tr>\n",
       "      <th>3</th>\n",
       "      <td>7019_COR_20</td>\n",
       "      <td>COR</td>\n",
       "      <td>7019</td>\n",
       "      <td>20</td>\n",
       "      <td>nocall</td>\n",
       "      <td>../data/train_soundscapes_2021/7019_COR.ogg</td>\n",
       "    </tr>\n",
       "    <tr>\n",
       "      <th>4</th>\n",
       "      <td>7019_COR_25</td>\n",
       "      <td>COR</td>\n",
       "      <td>7019</td>\n",
       "      <td>25</td>\n",
       "      <td>nocall</td>\n",
       "      <td>../data/train_soundscapes_2021/7019_COR.ogg</td>\n",
       "    </tr>\n",
       "  </tbody>\n",
       "</table>\n",
       "</div>"
      ],
      "text/plain": [
       "        row_id site  audio_id  seconds   birds  \\\n",
       "0   7019_COR_5  COR      7019        5  nocall   \n",
       "1  7019_COR_10  COR      7019       10  nocall   \n",
       "2  7019_COR_15  COR      7019       15  nocall   \n",
       "3  7019_COR_20  COR      7019       20  nocall   \n",
       "4  7019_COR_25  COR      7019       25  nocall   \n",
       "\n",
       "                                      filepath  \n",
       "0  ../data/train_soundscapes_2021/7019_COR.ogg  \n",
       "1  ../data/train_soundscapes_2021/7019_COR.ogg  \n",
       "2  ../data/train_soundscapes_2021/7019_COR.ogg  \n",
       "3  ../data/train_soundscapes_2021/7019_COR.ogg  \n",
       "4  ../data/train_soundscapes_2021/7019_COR.ogg  "
      ]
     },
     "execution_count": 10,
     "metadata": {},
     "output_type": "execute_result"
    }
   ],
   "source": [
    "sounds.head()"
   ]
  },
  {
   "cell_type": "code",
   "execution_count": 11,
   "metadata": {},
   "outputs": [],
   "source": [
    "sounds['has_call'] = 1*(sounds.birds != 'nocall')"
   ]
  },
  {
   "cell_type": "code",
   "execution_count": 12,
   "metadata": {},
   "outputs": [
    {
     "data": {
      "text/html": [
       "<div>\n",
       "<style scoped>\n",
       "    .dataframe tbody tr th:only-of-type {\n",
       "        vertical-align: middle;\n",
       "    }\n",
       "\n",
       "    .dataframe tbody tr th {\n",
       "        vertical-align: top;\n",
       "    }\n",
       "\n",
       "    .dataframe thead th {\n",
       "        text-align: right;\n",
       "    }\n",
       "</style>\n",
       "<table border=\"1\" class=\"dataframe\">\n",
       "  <thead>\n",
       "    <tr style=\"text-align: right;\">\n",
       "      <th></th>\n",
       "      <th>row_id</th>\n",
       "      <th>site</th>\n",
       "      <th>audio_id</th>\n",
       "      <th>seconds</th>\n",
       "      <th>birds</th>\n",
       "      <th>filepath</th>\n",
       "      <th>has_call</th>\n",
       "    </tr>\n",
       "  </thead>\n",
       "  <tbody>\n",
       "    <tr>\n",
       "      <th>0</th>\n",
       "      <td>7019_COR_5</td>\n",
       "      <td>COR</td>\n",
       "      <td>7019</td>\n",
       "      <td>5</td>\n",
       "      <td>nocall</td>\n",
       "      <td>../data/train_soundscapes_2021/7019_COR.ogg</td>\n",
       "      <td>0</td>\n",
       "    </tr>\n",
       "    <tr>\n",
       "      <th>1</th>\n",
       "      <td>7019_COR_10</td>\n",
       "      <td>COR</td>\n",
       "      <td>7019</td>\n",
       "      <td>10</td>\n",
       "      <td>nocall</td>\n",
       "      <td>../data/train_soundscapes_2021/7019_COR.ogg</td>\n",
       "      <td>0</td>\n",
       "    </tr>\n",
       "    <tr>\n",
       "      <th>2</th>\n",
       "      <td>7019_COR_15</td>\n",
       "      <td>COR</td>\n",
       "      <td>7019</td>\n",
       "      <td>15</td>\n",
       "      <td>nocall</td>\n",
       "      <td>../data/train_soundscapes_2021/7019_COR.ogg</td>\n",
       "      <td>0</td>\n",
       "    </tr>\n",
       "    <tr>\n",
       "      <th>3</th>\n",
       "      <td>7019_COR_20</td>\n",
       "      <td>COR</td>\n",
       "      <td>7019</td>\n",
       "      <td>20</td>\n",
       "      <td>nocall</td>\n",
       "      <td>../data/train_soundscapes_2021/7019_COR.ogg</td>\n",
       "      <td>0</td>\n",
       "    </tr>\n",
       "    <tr>\n",
       "      <th>4</th>\n",
       "      <td>7019_COR_25</td>\n",
       "      <td>COR</td>\n",
       "      <td>7019</td>\n",
       "      <td>25</td>\n",
       "      <td>nocall</td>\n",
       "      <td>../data/train_soundscapes_2021/7019_COR.ogg</td>\n",
       "      <td>0</td>\n",
       "    </tr>\n",
       "  </tbody>\n",
       "</table>\n",
       "</div>"
      ],
      "text/plain": [
       "        row_id site  audio_id  seconds   birds  \\\n",
       "0   7019_COR_5  COR      7019        5  nocall   \n",
       "1  7019_COR_10  COR      7019       10  nocall   \n",
       "2  7019_COR_15  COR      7019       15  nocall   \n",
       "3  7019_COR_20  COR      7019       20  nocall   \n",
       "4  7019_COR_25  COR      7019       25  nocall   \n",
       "\n",
       "                                      filepath  has_call  \n",
       "0  ../data/train_soundscapes_2021/7019_COR.ogg         0  \n",
       "1  ../data/train_soundscapes_2021/7019_COR.ogg         0  \n",
       "2  ../data/train_soundscapes_2021/7019_COR.ogg         0  \n",
       "3  ../data/train_soundscapes_2021/7019_COR.ogg         0  \n",
       "4  ../data/train_soundscapes_2021/7019_COR.ogg         0  "
      ]
     },
     "execution_count": 12,
     "metadata": {},
     "output_type": "execute_result"
    }
   ],
   "source": [
    "sounds.head()"
   ]
  },
  {
   "cell_type": "code",
   "execution_count": 13,
   "metadata": {},
   "outputs": [
    {
     "data": {
      "text/plain": [
       "count    2400.000000\n",
       "mean        0.362917\n",
       "std         0.480941\n",
       "min         0.000000\n",
       "25%         0.000000\n",
       "50%         0.000000\n",
       "75%         1.000000\n",
       "max         1.000000\n",
       "Name: has_call, dtype: float64"
      ]
     },
     "execution_count": 13,
     "metadata": {},
     "output_type": "execute_result"
    }
   ],
   "source": [
    "sounds.has_call.describe()"
   ]
  },
  {
   "cell_type": "code",
   "execution_count": 14,
   "metadata": {},
   "outputs": [
    {
     "name": "stdout",
     "output_type": "stream",
     "text": [
      "<class 'pandas.core.frame.DataFrame'>\n",
      "Index: 1920 entries, 31 to 2031\n",
      "Data columns (total 7 columns):\n",
      " #   Column    Non-Null Count  Dtype \n",
      "---  ------    --------------  ----- \n",
      " 0   row_id    1920 non-null   object\n",
      " 1   site      1920 non-null   object\n",
      " 2   audio_id  1920 non-null   int64 \n",
      " 3   seconds   1920 non-null   int64 \n",
      " 4   birds     1920 non-null   object\n",
      " 5   filepath  1920 non-null   object\n",
      " 6   has_call  1920 non-null   int64 \n",
      "dtypes: int64(3), object(4)\n",
      "memory usage: 120.0+ KB\n",
      "None\n"
     ]
    }
   ],
   "source": [
    "sounds_train, sounds_test = train_test_split(sounds, test_size = 0.2, random_state=123, stratify=sounds['has_call'])\n",
    "\n",
    "if ABRIDGED_RUN == True:\n",
    "    sounds_train = sounds_train.sample(int(len(sounds_train)*0.1))\n",
    "    sounds_test = sounds_test.sample(int(len(sounds_train)*0.1))\n",
    "\n",
    "print(sounds_train.info())"
   ]
  },
  {
   "cell_type": "markdown",
   "metadata": {},
   "source": [
    "# 2. Preprocessing and Generating Spectrograms"
   ]
  },
  {
   "cell_type": "code",
   "execution_count": 15,
   "metadata": {},
   "outputs": [],
   "source": [
    "# Transforms audio signal to a spectrogram\n",
    "spectrogram_transform = torchaudio.transforms.Spectrogram(\n",
    "        n_fft=2048,\n",
    "        win_length=2048,\n",
    "        hop_length=512,\n",
    "        power=2\n",
    "    )"
   ]
  },
  {
   "cell_type": "code",
   "execution_count": 16,
   "metadata": {},
   "outputs": [],
   "source": [
    "# Converts ordinary spectrogram to Mel scale\n",
    "mel_spectrogram_transform = torchaudio.transforms.MelScale(\n",
    "    n_mels=256,\n",
    "    sample_rate=SAMPLE_RATE,\n",
    "    f_min=0,\n",
    "    f_max=16000,\n",
    "    n_stft=1025  # the number of frequency bins in the spectrogram\n",
    ")"
   ]
  },
  {
   "cell_type": "code",
   "execution_count": 17,
   "metadata": {},
   "outputs": [],
   "source": [
    "# Scales decibels to reasonable level (apply to a spectrogram or Mel spectrogram)\n",
    "db_scaler = torchaudio.transforms.AmplitudeToDB(stype=\"power\", top_db=80)"
   ]
  },
  {
   "cell_type": "code",
   "execution_count": 18,
   "metadata": {},
   "outputs": [],
   "source": [
    "# Resizes spectrograms into square images\n",
    "resize = transforms.Resize((224, 224), antialias = None)"
   ]
  },
  {
   "cell_type": "code",
   "execution_count": 19,
   "metadata": {},
   "outputs": [],
   "source": [
    "# Processes a sample to a tensor for our network\n",
    "def sample_to_tensor(sample):\n",
    "    x = spectrogram_transform(sample)\n",
    "    x = mel_spectrogram_transform(x)\n",
    "    x = db_scaler(x)\n",
    "    x = resize(x)\n",
    "    return x"
   ]
  },
  {
   "cell_type": "code",
   "execution_count": 20,
   "metadata": {},
   "outputs": [],
   "source": [
    "# Takes a row and outputs a torch tensor with shape (1, 224, 224) \n",
    "# that we can feed into our CNN\n",
    "def row_to_tensor(row_id):\n",
    "    row_id_parts = row_id.split('_')\n",
    "    filepath = AUDIO_DIR_2021+ row_id_parts[0]+'_'+row_id_parts[1]+'.ogg'\n",
    "    seconds = int(row_id_parts[2])\n",
    "    sample, _ = torchaudio.load(filepath)\n",
    "    end = seconds*SAMPLE_RATE\n",
    "    start = (seconds-5)*SAMPLE_RATE\n",
    "    sample = sample[0:1, start:end]\n",
    "    return sample_to_tensor(sample)"
   ]
  },
  {
   "cell_type": "code",
   "execution_count": 21,
   "metadata": {},
   "outputs": [
    {
     "data": {
      "image/png": "[encoded data removed]",
      "text/plain": [
       "<Figure size 640x480 with 1 Axes>"
      ]
     },
     "metadata": {},
     "output_type": "display_data"
    }
   ],
   "source": [
    "# Visualize a random spectrogram\n",
    "row_index_sample = np.random.randint(0, len(sounds_train))\n",
    "t = row_to_tensor(sounds_train.loc[row_index_sample, 'row_id'])\n",
    "plt.imshow(t.squeeze().numpy(), cmap='gray')\n",
    "plt.show()"
   ]
  },
  {
   "cell_type": "code",
   "execution_count": 22,
   "metadata": {},
   "outputs": [
    {
     "data": {
      "text/html": [
       "<div>\n",
       "<style scoped>\n",
       "    .dataframe tbody tr th:only-of-type {\n",
       "        vertical-align: middle;\n",
       "    }\n",
       "\n",
       "    .dataframe tbody tr th {\n",
       "        vertical-align: top;\n",
       "    }\n",
       "\n",
       "    .dataframe thead th {\n",
       "        text-align: right;\n",
       "    }\n",
       "</style>\n",
       "<table border=\"1\" class=\"dataframe\">\n",
       "  <thead>\n",
       "    <tr style=\"text-align: right;\">\n",
       "      <th></th>\n",
       "      <th>row_id</th>\n",
       "      <th>site</th>\n",
       "      <th>audio_id</th>\n",
       "      <th>seconds</th>\n",
       "      <th>birds</th>\n",
       "      <th>filepath</th>\n",
       "      <th>has_call</th>\n",
       "    </tr>\n",
       "  </thead>\n",
       "  <tbody>\n",
       "    <tr>\n",
       "      <th>31</th>\n",
       "      <td>7019_COR_160</td>\n",
       "      <td>COR</td>\n",
       "      <td>7019</td>\n",
       "      <td>160</td>\n",
       "      <td>nocall</td>\n",
       "      <td>../data/train_soundscapes_2021/7019_COR.ogg</td>\n",
       "      <td>0</td>\n",
       "    </tr>\n",
       "    <tr>\n",
       "      <th>1604</th>\n",
       "      <td>14473_SSW_225</td>\n",
       "      <td>SSW</td>\n",
       "      <td>14473</td>\n",
       "      <td>225</td>\n",
       "      <td>nocall</td>\n",
       "      <td>../data/train_soundscapes_2021/14473_SSW.ogg</td>\n",
       "      <td>0</td>\n",
       "    </tr>\n",
       "    <tr>\n",
       "      <th>302</th>\n",
       "      <td>11254_COR_315</td>\n",
       "      <td>COR</td>\n",
       "      <td>11254</td>\n",
       "      <td>315</td>\n",
       "      <td>nocall</td>\n",
       "      <td>../data/train_soundscapes_2021/11254_COR.ogg</td>\n",
       "      <td>0</td>\n",
       "    </tr>\n",
       "    <tr>\n",
       "      <th>1205</th>\n",
       "      <td>2782_SSW_30</td>\n",
       "      <td>SSW</td>\n",
       "      <td>2782</td>\n",
       "      <td>30</td>\n",
       "      <td>bkcchi reevir1</td>\n",
       "      <td>../data/train_soundscapes_2021/2782_SSW.ogg</td>\n",
       "      <td>1</td>\n",
       "    </tr>\n",
       "    <tr>\n",
       "      <th>1448</th>\n",
       "      <td>10534_SSW_45</td>\n",
       "      <td>SSW</td>\n",
       "      <td>10534</td>\n",
       "      <td>45</td>\n",
       "      <td>nocall</td>\n",
       "      <td>../data/train_soundscapes_2021/10534_SSW.ogg</td>\n",
       "      <td>0</td>\n",
       "    </tr>\n",
       "  </tbody>\n",
       "</table>\n",
       "</div>"
      ],
      "text/plain": [
       "             row_id site  audio_id  seconds           birds  \\\n",
       "31     7019_COR_160  COR      7019      160          nocall   \n",
       "1604  14473_SSW_225  SSW     14473      225          nocall   \n",
       "302   11254_COR_315  COR     11254      315          nocall   \n",
       "1205    2782_SSW_30  SSW      2782       30  bkcchi reevir1   \n",
       "1448   10534_SSW_45  SSW     10534       45          nocall   \n",
       "\n",
       "                                          filepath  has_call  \n",
       "31     ../data/train_soundscapes_2021/7019_COR.ogg         0  \n",
       "1604  ../data/train_soundscapes_2021/14473_SSW.ogg         0  \n",
       "302   ../data/train_soundscapes_2021/11254_COR.ogg         0  \n",
       "1205   ../data/train_soundscapes_2021/2782_SSW.ogg         1  \n",
       "1448  ../data/train_soundscapes_2021/10534_SSW.ogg         0  "
      ]
     },
     "execution_count": 22,
     "metadata": {},
     "output_type": "execute_result"
    }
   ],
   "source": [
    "sounds_train.head()"
   ]
  },
  {
   "cell_type": "markdown",
   "metadata": {},
   "source": [
    "# 3. Set up torch dataset"
   ]
  },
  {
   "cell_type": "code",
   "execution_count": 23,
   "metadata": {},
   "outputs": [],
   "source": [
    "# Note: filepaths and labels should be ordinary lists\n",
    "class BirdDataset2021(Dataset):\n",
    "    def __init__(self, row_ids, labels):\n",
    "        super().__init__()\n",
    "        self.row_ids = row_ids\n",
    "        self.labels = labels\n",
    "\n",
    "    def __len__(self):\n",
    "        return len(self.row_ids)\n",
    "\n",
    "    def __getitem__(self, index):\n",
    "        processed_clip = row_to_tensor(self.row_ids[index])\n",
    "        return processed_clip, self.labels[index]"
   ]
  },
  {
   "cell_type": "markdown",
   "metadata": {},
   "source": [
    "# 4. Defining neural network architecture "
   ]
  },
  {
   "cell_type": "code",
   "execution_count": 24,
   "metadata": {},
   "outputs": [],
   "source": [
    "class BirdCallIdentifier(nn.Module):\n",
    "    ''' Pared down architecture from https://github.com/musikalkemist/pytorchforaudio/blob/main/10%20Predictions%20with%20sound%20classifier/cnn.py'''\n",
    "    def __init__(self, num_classes):\n",
    "        super(BirdCallIdentifier, self).__init__()\n",
    "        self.conv1 = nn.Sequential(\n",
    "            nn.Conv2d(\n",
    "                in_channels=1,\n",
    "                out_channels=16,\n",
    "                kernel_size=3,\n",
    "                stride=1,\n",
    "                padding=2\n",
    "            ),\n",
    "            nn.ReLU(),\n",
    "            nn.MaxPool2d(kernel_size=2)\n",
    "        )\n",
    "        self.conv2 = nn.Sequential(\n",
    "            nn.Conv2d(\n",
    "                in_channels=16,\n",
    "                out_channels=32,\n",
    "                kernel_size=5,\n",
    "                stride=2,\n",
    "                padding=2\n",
    "            ),\n",
    "            nn.ReLU(),\n",
    "            nn.MaxPool2d(kernel_size=2)\n",
    "        )\n",
    "        self.dropout = nn.Dropout(p=0.1)\n",
    "        self.flatten = nn.Flatten()\n",
    "        self.linear = nn.Linear(25088, num_classes)\n",
    "\n",
    "    def forward(self, input_data):\n",
    "        x = self.conv1(input_data)\n",
    "        x = self.conv2(x)\n",
    "        x = self.dropout(x)\n",
    "        x = self.flatten(x)\n",
    "        x = self.linear(x)\n",
    "        return x"
   ]
  },
  {
   "cell_type": "markdown",
   "metadata": {},
   "source": [
    "# 6. Training"
   ]
  },
  {
   "cell_type": "code",
   "execution_count": 25,
   "metadata": {},
   "outputs": [
    {
     "name": "stdout",
     "output_type": "stream",
     "text": [
      "Using cpu\n"
     ]
    }
   ],
   "source": [
    "# Set device we'll train on\n",
    "device = None\n",
    "if torch.cuda.is_available():\n",
    "    device = \"cuda\"\n",
    "else:\n",
    "    device = \"cpu\"\n",
    "print(f\"Using {device}\")"
   ]
  },
  {
   "cell_type": "code",
   "execution_count": 26,
   "metadata": {},
   "outputs": [],
   "source": [
    "# Set model name if not set.\n",
    "# Defaults to a timestamp, YYYY-MM-DD_HH_MM_SS\n",
    "if MODEL_NAME == None:\n",
    "    MODEL_NAME = 'birdcall_detection_'+str(pd.Timestamp.now()).replace(\" \", \"_\").replace(\":\", \"-\").split(\".\")[0]\n",
    "\n",
    "# Create a saving directory if needed\n",
    "if SAVE_AFTER_TRAINING or SAVE_CHECKPOINTS or REPORT_TRAINING_LOSS_PER_EPOCH or REPORT_VALIDATION_LOSS_PER_EPOCH:\n",
    "    output_dir = Path(f'{CHECKPOINT_DIR}{MODEL_NAME}')\n",
    "    output_dir.mkdir(parents=True, exist_ok=True)"
   ]
  },
  {
   "cell_type": "code",
   "execution_count": 27,
   "metadata": {},
   "outputs": [],
   "source": [
    "# Instantiate our training dataset\n",
    "train_dataset = BirdDataset2021(row_ids = sounds_train['row_id'].to_list(), labels = sounds_train['has_call'].to_list())\n",
    "train_dataloader = DataLoader(train_dataset, batch_size=BATCH_SIZE, shuffle=True)"
   ]
  },
  {
   "cell_type": "code",
   "execution_count": 28,
   "metadata": {},
   "outputs": [],
   "source": [
    "# Instantiate our validation dataset\n",
    "validation_dataset =  BirdDataset2021(row_ids = sounds_test['row_id'].to_list(), labels = sounds_test['has_call'].to_list())\n",
    "validation_dataloader = DataLoader(validation_dataset, batch_size=1, shuffle=False)"
   ]
  },
  {
   "cell_type": "code",
   "execution_count": 29,
   "metadata": {},
   "outputs": [],
   "source": [
    "# Instantiate our model\n",
    "model = BirdCallIdentifier(2).to(device)"
   ]
  },
  {
   "cell_type": "code",
   "execution_count": 30,
   "metadata": {},
   "outputs": [],
   "source": [
    "# Set our loss function and optimizer\n",
    "criterion = nn.CrossEntropyLoss()\n",
    "optimizer = optim.SGD(model.parameters(), lr=LEARNING_RATE, momentum=0.9)"
   ]
  },
  {
   "cell_type": "code",
   "execution_count": 31,
   "metadata": {},
   "outputs": [
    {
     "name": "stdout",
     "output_type": "stream",
     "text": [
      "Training on 1920 samples with 32 samples per batch.\n",
      "Validating on 480 samples at the end of each epoch.\n"
     ]
    },
    {
     "data": {
      "application/vnd.jupyter.widget-view+json": {
       "model_id": "eaa64a41396a44028683c61ca873b47a",
       "version_major": 2,
       "version_minor": 0
      },
      "text/plain": [
       "  0%|          | 0/20 [00:00<?, ?it/s]"
      ]
     },
     "metadata": {},
     "output_type": "display_data"
    },
    {
     "data": {
      "application/vnd.jupyter.widget-view+json": {
       "model_id": "b198b83d2b5c4b628ce2d7804590711e",
       "version_major": 2,
       "version_minor": 0
      },
      "text/plain": [
       "  0%|          | 0/60 [00:00<?, ?it/s]"
      ]
     },
     "metadata": {},
     "output_type": "display_data"
    },
    {
     "ename": "KeyboardInterrupt",
     "evalue": "",
     "output_type": "error",
     "traceback": [
      "\u001b[0;31m---------------------------------------------------------------------------\u001b[0m",
      "\u001b[0;31mKeyboardInterrupt\u001b[0m                         Traceback (most recent call last)",
      "Cell \u001b[0;32mIn[31], line 15\u001b[0m\n\u001b[1;32m     11\u001b[0m \u001b[38;5;28;01mfor\u001b[39;00m epoch_num, epoch \u001b[38;5;129;01min\u001b[39;00m \u001b[38;5;28menumerate\u001b[39m(tqdm(\u001b[38;5;28mrange\u001b[39m(NUM_EPOCHS))):\n\u001b[1;32m     13\u001b[0m     running_loss \u001b[38;5;241m=\u001b[39m \u001b[38;5;241m0.0\u001b[39m\n\u001b[0;32m---> 15\u001b[0m     \u001b[38;5;28;01mfor\u001b[39;00m i, data \u001b[38;5;129;01min\u001b[39;00m \u001b[38;5;28menumerate\u001b[39m(tqdm(train_dataloader, leave \u001b[38;5;241m=\u001b[39m \u001b[38;5;28;01mFalse\u001b[39;00m)):\n\u001b[1;32m     16\u001b[0m         \n\u001b[1;32m     17\u001b[0m         \u001b[38;5;66;03m# Get batch of inputs and true labels, push to device\u001b[39;00m\n\u001b[1;32m     18\u001b[0m         inputs, labels \u001b[38;5;241m=\u001b[39m data\n\u001b[1;32m     19\u001b[0m         inputs, labels \u001b[38;5;241m=\u001b[39m inputs\u001b[38;5;241m.\u001b[39mto(device), labels\u001b[38;5;241m.\u001b[39mto(device)\n",
      "File \u001b[0;32m~/anaconda3/lib/python3.11/site-packages/tqdm/notebook.py:254\u001b[0m, in \u001b[0;36mtqdm_notebook.__iter__\u001b[0;34m(self)\u001b[0m\n\u001b[1;32m    252\u001b[0m \u001b[38;5;28;01mtry\u001b[39;00m:\n\u001b[1;32m    253\u001b[0m     it \u001b[38;5;241m=\u001b[39m \u001b[38;5;28msuper\u001b[39m(tqdm_notebook, \u001b[38;5;28mself\u001b[39m)\u001b[38;5;241m.\u001b[39m\u001b[38;5;21m__iter__\u001b[39m()\n\u001b[0;32m--> 254\u001b[0m     \u001b[38;5;28;01mfor\u001b[39;00m obj \u001b[38;5;129;01min\u001b[39;00m it:\n\u001b[1;32m    255\u001b[0m         \u001b[38;5;66;03m# return super(tqdm...) will not catch exception\u001b[39;00m\n\u001b[1;32m    256\u001b[0m         \u001b[38;5;28;01myield\u001b[39;00m obj\n\u001b[1;32m    257\u001b[0m \u001b[38;5;66;03m# NB: except ... [ as ...] breaks IPython async KeyboardInterrupt\u001b[39;00m\n",
      "File \u001b[0;32m~/anaconda3/lib/python3.11/site-packages/tqdm/std.py:1178\u001b[0m, in \u001b[0;36mtqdm.__iter__\u001b[0;34m(self)\u001b[0m\n\u001b[1;32m   1175\u001b[0m time \u001b[38;5;241m=\u001b[39m \u001b[38;5;28mself\u001b[39m\u001b[38;5;241m.\u001b[39m_time\n\u001b[1;32m   1177\u001b[0m \u001b[38;5;28;01mtry\u001b[39;00m:\n\u001b[0;32m-> 1178\u001b[0m     \u001b[38;5;28;01mfor\u001b[39;00m obj \u001b[38;5;129;01min\u001b[39;00m iterable:\n\u001b[1;32m   1179\u001b[0m         \u001b[38;5;28;01myield\u001b[39;00m obj\n\u001b[1;32m   1180\u001b[0m         \u001b[38;5;66;03m# Update and possibly print the progressbar.\u001b[39;00m\n\u001b[1;32m   1181\u001b[0m         \u001b[38;5;66;03m# Note: does not call self.update(1) for speed optimisation.\u001b[39;00m\n",
      "File \u001b[0;32m~/anaconda3/lib/python3.11/site-packages/torch/utils/data/dataloader.py:631\u001b[0m, in \u001b[0;36m_BaseDataLoaderIter.__next__\u001b[0;34m(self)\u001b[0m\n\u001b[1;32m    628\u001b[0m \u001b[38;5;28;01mif\u001b[39;00m \u001b[38;5;28mself\u001b[39m\u001b[38;5;241m.\u001b[39m_sampler_iter \u001b[38;5;129;01mis\u001b[39;00m \u001b[38;5;28;01mNone\u001b[39;00m:\n\u001b[1;32m    629\u001b[0m     \u001b[38;5;66;03m# TODO(https://github.com/pytorch/pytorch/issues/76750)\u001b[39;00m\n\u001b[1;32m    630\u001b[0m     \u001b[38;5;28mself\u001b[39m\u001b[38;5;241m.\u001b[39m_reset()  \u001b[38;5;66;03m# type: ignore[call-arg]\u001b[39;00m\n\u001b[0;32m--> 631\u001b[0m data \u001b[38;5;241m=\u001b[39m \u001b[38;5;28mself\u001b[39m\u001b[38;5;241m.\u001b[39m_next_data()\n\u001b[1;32m    632\u001b[0m \u001b[38;5;28mself\u001b[39m\u001b[38;5;241m.\u001b[39m_num_yielded \u001b[38;5;241m+\u001b[39m\u001b[38;5;241m=\u001b[39m \u001b[38;5;241m1\u001b[39m\n\u001b[1;32m    633\u001b[0m \u001b[38;5;28;01mif\u001b[39;00m \u001b[38;5;28mself\u001b[39m\u001b[38;5;241m.\u001b[39m_dataset_kind \u001b[38;5;241m==\u001b[39m _DatasetKind\u001b[38;5;241m.\u001b[39mIterable \u001b[38;5;129;01mand\u001b[39;00m \\\n\u001b[1;32m    634\u001b[0m         \u001b[38;5;28mself\u001b[39m\u001b[38;5;241m.\u001b[39m_IterableDataset_len_called \u001b[38;5;129;01mis\u001b[39;00m \u001b[38;5;129;01mnot\u001b[39;00m \u001b[38;5;28;01mNone\u001b[39;00m \u001b[38;5;129;01mand\u001b[39;00m \\\n\u001b[1;32m    635\u001b[0m         \u001b[38;5;28mself\u001b[39m\u001b[38;5;241m.\u001b[39m_num_yielded \u001b[38;5;241m>\u001b[39m \u001b[38;5;28mself\u001b[39m\u001b[38;5;241m.\u001b[39m_IterableDataset_len_called:\n",
      "File \u001b[0;32m~/anaconda3/lib/python3.11/site-packages/torch/utils/data/dataloader.py:675\u001b[0m, in \u001b[0;36m_SingleProcessDataLoaderIter._next_data\u001b[0;34m(self)\u001b[0m\n\u001b[1;32m    673\u001b[0m \u001b[38;5;28;01mdef\u001b[39;00m \u001b[38;5;21m_next_data\u001b[39m(\u001b[38;5;28mself\u001b[39m):\n\u001b[1;32m    674\u001b[0m     index \u001b[38;5;241m=\u001b[39m \u001b[38;5;28mself\u001b[39m\u001b[38;5;241m.\u001b[39m_next_index()  \u001b[38;5;66;03m# may raise StopIteration\u001b[39;00m\n\u001b[0;32m--> 675\u001b[0m     data \u001b[38;5;241m=\u001b[39m \u001b[38;5;28mself\u001b[39m\u001b[38;5;241m.\u001b[39m_dataset_fetcher\u001b[38;5;241m.\u001b[39mfetch(index)  \u001b[38;5;66;03m# may raise StopIteration\u001b[39;00m\n\u001b[1;32m    676\u001b[0m     \u001b[38;5;28;01mif\u001b[39;00m \u001b[38;5;28mself\u001b[39m\u001b[38;5;241m.\u001b[39m_pin_memory:\n\u001b[1;32m    677\u001b[0m         data \u001b[38;5;241m=\u001b[39m _utils\u001b[38;5;241m.\u001b[39mpin_memory\u001b[38;5;241m.\u001b[39mpin_memory(data, \u001b[38;5;28mself\u001b[39m\u001b[38;5;241m.\u001b[39m_pin_memory_device)\n",
      "File \u001b[0;32m~/anaconda3/lib/python3.11/site-packages/torch/utils/data/_utils/fetch.py:51\u001b[0m, in \u001b[0;36m_MapDatasetFetcher.fetch\u001b[0;34m(self, possibly_batched_index)\u001b[0m\n\u001b[1;32m     49\u001b[0m         data \u001b[38;5;241m=\u001b[39m \u001b[38;5;28mself\u001b[39m\u001b[38;5;241m.\u001b[39mdataset\u001b[38;5;241m.\u001b[39m__getitems__(possibly_batched_index)\n\u001b[1;32m     50\u001b[0m     \u001b[38;5;28;01melse\u001b[39;00m:\n\u001b[0;32m---> 51\u001b[0m         data \u001b[38;5;241m=\u001b[39m [\u001b[38;5;28mself\u001b[39m\u001b[38;5;241m.\u001b[39mdataset[idx] \u001b[38;5;28;01mfor\u001b[39;00m idx \u001b[38;5;129;01min\u001b[39;00m possibly_batched_index]\n\u001b[1;32m     52\u001b[0m \u001b[38;5;28;01melse\u001b[39;00m:\n\u001b[1;32m     53\u001b[0m     data \u001b[38;5;241m=\u001b[39m \u001b[38;5;28mself\u001b[39m\u001b[38;5;241m.\u001b[39mdataset[possibly_batched_index]\n",
      "File \u001b[0;32m~/anaconda3/lib/python3.11/site-packages/torch/utils/data/_utils/fetch.py:51\u001b[0m, in \u001b[0;36m<listcomp>\u001b[0;34m(.0)\u001b[0m\n\u001b[1;32m     49\u001b[0m         data \u001b[38;5;241m=\u001b[39m \u001b[38;5;28mself\u001b[39m\u001b[38;5;241m.\u001b[39mdataset\u001b[38;5;241m.\u001b[39m__getitems__(possibly_batched_index)\n\u001b[1;32m     50\u001b[0m     \u001b[38;5;28;01melse\u001b[39;00m:\n\u001b[0;32m---> 51\u001b[0m         data \u001b[38;5;241m=\u001b[39m [\u001b[38;5;28mself\u001b[39m\u001b[38;5;241m.\u001b[39mdataset[idx] \u001b[38;5;28;01mfor\u001b[39;00m idx \u001b[38;5;129;01min\u001b[39;00m possibly_batched_index]\n\u001b[1;32m     52\u001b[0m \u001b[38;5;28;01melse\u001b[39;00m:\n\u001b[1;32m     53\u001b[0m     data \u001b[38;5;241m=\u001b[39m \u001b[38;5;28mself\u001b[39m\u001b[38;5;241m.\u001b[39mdataset[possibly_batched_index]\n",
      "Cell \u001b[0;32mIn[23], line 12\u001b[0m, in \u001b[0;36mBirdDataset2021.__getitem__\u001b[0;34m(self, index)\u001b[0m\n\u001b[1;32m     11\u001b[0m \u001b[38;5;28;01mdef\u001b[39;00m \u001b[38;5;21m__getitem__\u001b[39m(\u001b[38;5;28mself\u001b[39m, index):\n\u001b[0;32m---> 12\u001b[0m     processed_clip \u001b[38;5;241m=\u001b[39m row_to_tensor(\u001b[38;5;28mself\u001b[39m\u001b[38;5;241m.\u001b[39mrow_ids[index])\n\u001b[1;32m     13\u001b[0m     \u001b[38;5;28;01mreturn\u001b[39;00m processed_clip, \u001b[38;5;28mself\u001b[39m\u001b[38;5;241m.\u001b[39mlabels[index]\n",
      "Cell \u001b[0;32mIn[20], line 7\u001b[0m, in \u001b[0;36mrow_to_tensor\u001b[0;34m(row_id)\u001b[0m\n\u001b[1;32m      5\u001b[0m filepath \u001b[38;5;241m=\u001b[39m AUDIO_DIR_2021\u001b[38;5;241m+\u001b[39m row_id_parts[\u001b[38;5;241m0\u001b[39m]\u001b[38;5;241m+\u001b[39m\u001b[38;5;124m'\u001b[39m\u001b[38;5;124m_\u001b[39m\u001b[38;5;124m'\u001b[39m\u001b[38;5;241m+\u001b[39mrow_id_parts[\u001b[38;5;241m1\u001b[39m]\u001b[38;5;241m+\u001b[39m\u001b[38;5;124m'\u001b[39m\u001b[38;5;124m.ogg\u001b[39m\u001b[38;5;124m'\u001b[39m\n\u001b[1;32m      6\u001b[0m seconds \u001b[38;5;241m=\u001b[39m \u001b[38;5;28mint\u001b[39m(row_id_parts[\u001b[38;5;241m2\u001b[39m])\n\u001b[0;32m----> 7\u001b[0m sample, _ \u001b[38;5;241m=\u001b[39m torchaudio\u001b[38;5;241m.\u001b[39mload(filepath)\n\u001b[1;32m      8\u001b[0m end \u001b[38;5;241m=\u001b[39m seconds\u001b[38;5;241m*\u001b[39mSAMPLE_RATE\n\u001b[1;32m      9\u001b[0m start \u001b[38;5;241m=\u001b[39m (seconds\u001b[38;5;241m-\u001b[39m\u001b[38;5;241m5\u001b[39m)\u001b[38;5;241m*\u001b[39mSAMPLE_RATE\n",
      "File \u001b[0;32m~/anaconda3/lib/python3.11/site-packages/torchaudio/_backend/utils.py:205\u001b[0m, in \u001b[0;36mget_load_func.<locals>.load\u001b[0;34m(uri, frame_offset, num_frames, normalize, channels_first, format, buffer_size, backend)\u001b[0m\n\u001b[1;32m    128\u001b[0m \u001b[38;5;250m\u001b[39m\u001b[38;5;124;03m\"\"\"Load audio data from source.\u001b[39;00m\n\u001b[1;32m    129\u001b[0m \n\u001b[1;32m    130\u001b[0m \u001b[38;5;124;03mBy default (``normalize=True``, ``channels_first=True``), this function returns Tensor with\u001b[39;00m\n\u001b[0;32m   (...)\u001b[0m\n\u001b[1;32m    202\u001b[0m \u001b[38;5;124;03m        `[channel, time]` else `[time, channel]`.\u001b[39;00m\n\u001b[1;32m    203\u001b[0m \u001b[38;5;124;03m\"\"\"\u001b[39;00m\n\u001b[1;32m    204\u001b[0m backend \u001b[38;5;241m=\u001b[39m dispatcher(uri, \u001b[38;5;28mformat\u001b[39m, backend)\n\u001b[0;32m--> 205\u001b[0m \u001b[38;5;28;01mreturn\u001b[39;00m backend\u001b[38;5;241m.\u001b[39mload(uri, frame_offset, num_frames, normalize, channels_first, \u001b[38;5;28mformat\u001b[39m, buffer_size)\n",
      "File \u001b[0;32m~/anaconda3/lib/python3.11/site-packages/torchaudio/_backend/ffmpeg.py:297\u001b[0m, in \u001b[0;36mFFmpegBackend.load\u001b[0;34m(uri, frame_offset, num_frames, normalize, channels_first, format, buffer_size)\u001b[0m\n\u001b[1;32m    287\u001b[0m \u001b[38;5;129m@staticmethod\u001b[39m\n\u001b[1;32m    288\u001b[0m \u001b[38;5;28;01mdef\u001b[39;00m \u001b[38;5;21mload\u001b[39m(\n\u001b[1;32m    289\u001b[0m     uri: InputType,\n\u001b[0;32m   (...)\u001b[0m\n\u001b[1;32m    295\u001b[0m     buffer_size: \u001b[38;5;28mint\u001b[39m \u001b[38;5;241m=\u001b[39m \u001b[38;5;241m4096\u001b[39m,\n\u001b[1;32m    296\u001b[0m ) \u001b[38;5;241m-\u001b[39m\u001b[38;5;241m>\u001b[39m Tuple[torch\u001b[38;5;241m.\u001b[39mTensor, \u001b[38;5;28mint\u001b[39m]:\n\u001b[0;32m--> 297\u001b[0m     \u001b[38;5;28;01mreturn\u001b[39;00m load_audio(uri, frame_offset, num_frames, normalize, channels_first, \u001b[38;5;28mformat\u001b[39m)\n",
      "File \u001b[0;32m~/anaconda3/lib/python3.11/site-packages/torchaudio/_backend/ffmpeg.py:91\u001b[0m, in \u001b[0;36mload_audio\u001b[0;34m(src, frame_offset, num_frames, convert, channels_first, format, buffer_size)\u001b[0m\n\u001b[1;32m     89\u001b[0m sample_rate \u001b[38;5;241m=\u001b[39m \u001b[38;5;28mint\u001b[39m(s\u001b[38;5;241m.\u001b[39mget_src_stream_info(s\u001b[38;5;241m.\u001b[39mdefault_audio_stream)\u001b[38;5;241m.\u001b[39msample_rate)\n\u001b[1;32m     90\u001b[0m \u001b[38;5;28mfilter\u001b[39m \u001b[38;5;241m=\u001b[39m _get_load_filter(frame_offset, num_frames, convert)\n\u001b[0;32m---> 91\u001b[0m waveform \u001b[38;5;241m=\u001b[39m _load_audio(s, \u001b[38;5;28mfilter\u001b[39m, channels_first)\n\u001b[1;32m     92\u001b[0m \u001b[38;5;28;01mreturn\u001b[39;00m waveform, sample_rate\n",
      "File \u001b[0;32m~/anaconda3/lib/python3.11/site-packages/torchaudio/_backend/ffmpeg.py:69\u001b[0m, in \u001b[0;36m_load_audio\u001b[0;34m(s, filter, channels_first)\u001b[0m\n\u001b[1;32m     63\u001b[0m \u001b[38;5;28;01mdef\u001b[39;00m \u001b[38;5;21m_load_audio\u001b[39m(\n\u001b[1;32m     64\u001b[0m     s: \u001b[38;5;124m\"\u001b[39m\u001b[38;5;124mtorchaudio.io.StreamReader\u001b[39m\u001b[38;5;124m\"\u001b[39m,\n\u001b[1;32m     65\u001b[0m     \u001b[38;5;28mfilter\u001b[39m: Optional[\u001b[38;5;28mstr\u001b[39m] \u001b[38;5;241m=\u001b[39m \u001b[38;5;28;01mNone\u001b[39;00m,\n\u001b[1;32m     66\u001b[0m     channels_first: \u001b[38;5;28mbool\u001b[39m \u001b[38;5;241m=\u001b[39m \u001b[38;5;28;01mTrue\u001b[39;00m,\n\u001b[1;32m     67\u001b[0m ) \u001b[38;5;241m-\u001b[39m\u001b[38;5;241m>\u001b[39m torch\u001b[38;5;241m.\u001b[39mTensor:\n\u001b[1;32m     68\u001b[0m     s\u001b[38;5;241m.\u001b[39madd_audio_stream(\u001b[38;5;241m-\u001b[39m\u001b[38;5;241m1\u001b[39m, \u001b[38;5;241m-\u001b[39m\u001b[38;5;241m1\u001b[39m, filter_desc\u001b[38;5;241m=\u001b[39m\u001b[38;5;28mfilter\u001b[39m)\n\u001b[0;32m---> 69\u001b[0m     s\u001b[38;5;241m.\u001b[39mprocess_all_packets()\n\u001b[1;32m     70\u001b[0m     chunk \u001b[38;5;241m=\u001b[39m s\u001b[38;5;241m.\u001b[39mpop_chunks()[\u001b[38;5;241m0\u001b[39m]\n\u001b[1;32m     71\u001b[0m     \u001b[38;5;28;01mif\u001b[39;00m chunk \u001b[38;5;129;01mis\u001b[39;00m \u001b[38;5;28;01mNone\u001b[39;00m:\n",
      "File \u001b[0;32m~/anaconda3/lib/python3.11/site-packages/torio/io/_streaming_media_decoder.py:901\u001b[0m, in \u001b[0;36mStreamingMediaDecoder.process_all_packets\u001b[0;34m(self)\u001b[0m\n\u001b[1;32m    899\u001b[0m \u001b[38;5;28;01mdef\u001b[39;00m \u001b[38;5;21mprocess_all_packets\u001b[39m(\u001b[38;5;28mself\u001b[39m):\n\u001b[1;32m    900\u001b[0m \u001b[38;5;250m    \u001b[39m\u001b[38;5;124;03m\"\"\"Process packets until it reaches EOF.\"\"\"\u001b[39;00m\n\u001b[0;32m--> 901\u001b[0m     \u001b[38;5;28mself\u001b[39m\u001b[38;5;241m.\u001b[39m_be\u001b[38;5;241m.\u001b[39mprocess_all_packets()\n",
      "\u001b[0;31mKeyboardInterrupt\u001b[0m: "
     ]
    }
   ],
   "source": [
    "# Training loop\n",
    "print(f\"Training on {len(train_dataset)} samples with {BATCH_SIZE} samples per batch.\")\n",
    "if REPORT_VALIDATION_LOSS_PER_EPOCH == True:\n",
    "    print(f\"Validating on {len(validation_dataset)} samples at the end of each epoch.\")\n",
    "\n",
    "training_losses = [None]*NUM_EPOCHS\n",
    "validation_losses = [None]*NUM_EPOCHS\n",
    "\n",
    "torch.enable_grad() # Turn on the gradient\n",
    "\n",
    "for epoch_num, epoch in enumerate(tqdm(range(NUM_EPOCHS))):\n",
    "\n",
    "    running_loss = 0.0\n",
    "    \n",
    "    for i, data in enumerate(tqdm(train_dataloader, leave = False)):\n",
    "        \n",
    "        # Get batch of inputs and true labels, push to device\n",
    "        inputs, labels = data\n",
    "        inputs, labels = inputs.to(device), labels.to(device)\n",
    "\n",
    "        # Zero gradients\n",
    "        optimizer.zero_grad()\n",
    "\n",
    "        # Forward pass on batch of inputs\n",
    "        outputs = model(inputs)\n",
    "\n",
    "        # Compute the loss and its gradients\n",
    "        loss = criterion(outputs, labels)\n",
    "        loss.backward()\n",
    "\n",
    "        # Update weights\n",
    "        optimizer.step()\n",
    "\n",
    "        # Update loss\n",
    "        running_loss += loss.item()\n",
    "\n",
    "    # Save checkpoint\n",
    "    if SAVE_CHECKPOINTS == True:\n",
    "        torch.save(model.state_dict(), f\"{CHECKPOINT_DIR}{MODEL_NAME}/checkpoint_{epoch_num+1}.pt\")\n",
    "\n",
    "    # Compute training loss\n",
    "    if REPORT_TRAINING_LOSS_PER_EPOCH == True:    \n",
    "        training_losses[epoch_num] = running_loss/len(train_dataloader)\n",
    "        \n",
    "    # Compute validation loss\n",
    "    if REPORT_VALIDATION_LOSS_PER_EPOCH == True:\n",
    "        validation_loss = 0.0\n",
    "        model.eval()\n",
    "        for validation_data in validation_dataloader:\n",
    "            inputs, labels = validation_data\n",
    "            inputs, labels = inputs.to(device), labels.to(device)\n",
    "            outputs = model(inputs)\n",
    "            validation_loss += criterion(outputs, labels).item()\n",
    "        validation_losses[epoch_num] = validation_loss/len(validation_dataloader)\n",
    "        model.train()\n",
    "\n",
    "print('Finished Training')"
   ]
  },
  {
   "cell_type": "markdown",
   "metadata": {},
   "source": [
    "# 6. Save the model and report results"
   ]
  },
  {
   "cell_type": "code",
   "execution_count": 193,
   "metadata": {},
   "outputs": [],
   "source": [
    "if SAVE_AFTER_TRAINING == True:\n",
    "    torch.save(model.state_dict(), f\"{CHECKPOINT_DIR}{MODEL_NAME}/final.pt\")"
   ]
  },
  {
   "cell_type": "code",
   "execution_count": 194,
   "metadata": {},
   "outputs": [
    {
     "name": "stdout",
     "output_type": "stream",
     "text": [
      "    training_losses  validation_losses\n",
      "0         11.707063           0.682369\n",
      "1          0.687973           0.703528\n",
      "2          0.660276           0.616452\n",
      "3          0.605941           0.498080\n",
      "4          0.559103           0.474193\n",
      "5          0.502334           0.456886\n",
      "6          0.428982           0.703355\n",
      "7          0.414212           0.546228\n",
      "8          0.359036           0.450571\n",
      "9          0.351114           0.591142\n",
      "10         0.277455           0.463333\n",
      "11         0.232559           0.691232\n",
      "12         0.242519           0.761311\n",
      "13         0.189807           0.501313\n",
      "14         0.182417           0.427239\n",
      "15         0.120202           0.419062\n",
      "16         0.134286           0.409277\n",
      "17         0.084987           0.514503\n",
      "18         0.095000           0.555285\n",
      "19         0.120446           0.891212\n"
     ]
    }
   ],
   "source": [
    "losses = pd.DataFrame({\"training_losses\":training_losses, \"validation_losses\":validation_losses})\n",
    "cols = []\n",
    "if REPORT_TRAINING_LOSS_PER_EPOCH == True:\n",
    "    cols += [\"training_losses\"]\n",
    "if REPORT_VALIDATION_LOSS_PER_EPOCH == True:\n",
    "    cols += [\"validation_losses\"]\n",
    "if len(cols) > 0:\n",
    "    losses[cols].to_csv(f\"{CHECKPOINT_DIR}{MODEL_NAME}/losses.csv\")\n",
    "    print(losses)"
   ]
  },
  {
   "cell_type": "code",
   "execution_count": null,
   "metadata": {},
   "outputs": [],
   "source": []
  }
 ],
 "metadata": {
  "kernelspec": {
   "display_name": "Python 3 (ipykernel)",
   "language": "python",
   "name": "python3"
  },
  "language_info": {
   "codemirror_mode": {
    "name": "ipython",
    "version": 3
   },
   "file_extension": ".py",
   "mimetype": "text/x-python",
   "name": "python",
   "nbconvert_exporter": "python",
   "pygments_lexer": "ipython3",
   "version": "3.11.8"
  }
 },
 "nbformat": 4,
 "nbformat_minor": 4
}
